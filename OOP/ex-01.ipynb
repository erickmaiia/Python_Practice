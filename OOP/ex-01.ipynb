{
 "cells": [
  {
   "cell_type": "code",
   "execution_count": 1,
   "metadata": {},
   "outputs": [
    {
     "name": "stdout",
     "output_type": "stream",
     "text": [
      "10 34\n",
      "22 78\n"
     ]
    }
   ],
   "source": [
    "# Exercise 1 - Create an object from the class below, called roc1, passing 2 parameters and\n",
    "# then make a call to attributes and methods\n",
    "\n",
    "class Rocket():\n",
    "\n",
    "    def __init__(self, x=0, y=0):\n",
    "        self.x = x\n",
    "        self.y = y\n",
    "\n",
    "    def move_rocket(self, x_increment=0, y_increment=1):\n",
    "        self.x += x_increment\n",
    "        self.y += y_increment\n",
    "\n",
    "    def print_rocket(self):\n",
    "        print(self.x, self.y)\n",
    "\n",
    "\n",
    "roc1 = Rocket(10, 34)\n",
    "roc1.x\n",
    "roc1.y\n",
    "roc1.print_rocket()\n",
    "roc1.move_rocket(12, 44)\n",
    "roc1.print_rocket()\n"
   ]
  },
  {
   "cell_type": "code",
   "execution_count": 2,
   "metadata": {},
   "outputs": [
    {
     "data": {
      "text/plain": [
       "8899340997"
      ]
     },
     "execution_count": 2,
     "metadata": {},
     "output_type": "execute_result"
    }
   ],
   "source": [
    "# Exercise 2 - Create a class called Person() with attributes: name, city, telephone and e-mail. use\n",
    "# at least 2 special methods in your class. Create an object of your class and make a call\n",
    "# to at least one of its special methods.\n",
    "\n",
    "\n",
    "class Person():\n",
    "\n",
    "    def __init__(self, name, city, phone, email):\n",
    "        self.name = name\n",
    "        self.city = city\n",
    "        self.phone = phone\n",
    "        self.email = email\n",
    "\n",
    "    def __str__(self):\n",
    "        return f\"Hi! your name is {self.name}, you live in {self.city}, your phone is {self.phone} and \\\n",
    "your email is {self.email}\"\n",
    "\n",
    "    def __len__(self):\n",
    "        return self.phone\n",
    "\n",
    "\n",
    "person1 = Person(\"Maria\", \"Limoeiro do Norte\", 8899340997, \"maria@gmail.com\")\n",
    "str(person1)\n",
    "len(person1)\n"
   ]
  },
  {
   "cell_type": "code",
   "execution_count": 3,
   "metadata": {},
   "outputs": [
    {
     "name": "stdout",
     "output_type": "stream",
     "text": [
      "Values for object: small led 64GB\n"
     ]
    }
   ],
   "source": [
    "# Exercise 3 - Create the Smartphone class with 2 attributes, size and interface and create the MP3Player class\n",
    "# with capacity attributes. The MP3player class must inherit the attributes of the Smartphone class.\n",
    "\n",
    "\n",
    "class Smartphone(object):\n",
    "    def __init__(self, size, interface):\n",
    "        self.size = size\n",
    "        self.interface = interface\n",
    "\n",
    "\n",
    "class MP3player(Smartphone):\n",
    "    def __init__(self, capacity, size='small', interface='led'):\n",
    "        self.capacity = capacity\n",
    "        Smartphone.__init__(self, size, interface)\n",
    "\n",
    "    def printmp3(self):\n",
    "        print(\n",
    "            f\"Values for object: {self.size} {self.interface} {self.capacity}\")\n",
    "\n",
    "\n",
    "device = MP3player(\"64GB\")\n",
    "device.printmp3()\n"
   ]
  }
 ],
 "metadata": {
  "kernelspec": {
   "display_name": "Python 3.10.6 64-bit",
   "language": "python",
   "name": "python3"
  },
  "language_info": {
   "codemirror_mode": {
    "name": "ipython",
    "version": 3
   },
   "file_extension": ".py",
   "mimetype": "text/x-python",
   "name": "python",
   "nbconvert_exporter": "python",
   "pygments_lexer": "ipython3",
   "version": "3.10.6"
  },
  "orig_nbformat": 4,
  "vscode": {
   "interpreter": {
    "hash": "bf55a5144c282b5bd331c781bde1ab06e81395a01f48b364fc673a2c1b5c22d7"
   }
  }
 },
 "nbformat": 4,
 "nbformat_minor": 2
}
